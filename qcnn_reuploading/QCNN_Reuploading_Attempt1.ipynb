{
  "cells": [
    {
      "cell_type": "markdown",
      "source": [
        "# Importing and Settings"
      ],
      "metadata": {
        "id": "77svYmOb7YIv"
      },
      "id": "77svYmOb7YIv"
    },
    {
      "cell_type": "code",
      "source": [
        "!pip install pennylane"
      ],
      "metadata": {
        "colab": {
          "base_uri": "https://localhost:8080/"
        },
        "id": "o3xJSRmz8K46",
        "outputId": "b40ca69d-2f09-4266-f1a9-8ddaf16bc5b1"
      },
      "id": "o3xJSRmz8K46",
      "execution_count": 110,
      "outputs": [
        {
          "output_type": "stream",
          "name": "stdout",
          "text": [
            "Requirement already satisfied: pennylane in /usr/local/lib/python3.12/dist-packages (0.42.3)\n",
            "Requirement already satisfied: scipy in /usr/local/lib/python3.12/dist-packages (from pennylane) (1.16.2)\n",
            "Requirement already satisfied: networkx in /usr/local/lib/python3.12/dist-packages (from pennylane) (3.5)\n",
            "Requirement already satisfied: rustworkx>=0.14.0 in /usr/local/lib/python3.12/dist-packages (from pennylane) (0.17.1)\n",
            "Requirement already satisfied: autograd in /usr/local/lib/python3.12/dist-packages (from pennylane) (1.8.0)\n",
            "Requirement already satisfied: appdirs in /usr/local/lib/python3.12/dist-packages (from pennylane) (1.4.4)\n",
            "Requirement already satisfied: autoray<0.8,>=0.6.11 in /usr/local/lib/python3.12/dist-packages (from pennylane) (0.7.2)\n",
            "Requirement already satisfied: cachetools in /usr/local/lib/python3.12/dist-packages (from pennylane) (5.5.2)\n",
            "Requirement already satisfied: pennylane-lightning>=0.42 in /usr/local/lib/python3.12/dist-packages (from pennylane) (0.42.0)\n",
            "Requirement already satisfied: requests in /usr/local/lib/python3.12/dist-packages (from pennylane) (2.32.4)\n",
            "Requirement already satisfied: tomlkit in /usr/local/lib/python3.12/dist-packages (from pennylane) (0.13.3)\n",
            "Requirement already satisfied: typing_extensions in /usr/local/lib/python3.12/dist-packages (from pennylane) (4.15.0)\n",
            "Requirement already satisfied: packaging in /usr/local/lib/python3.12/dist-packages (from pennylane) (25.0)\n",
            "Requirement already satisfied: diastatic-malt in /usr/local/lib/python3.12/dist-packages (from pennylane) (2.15.2)\n",
            "Requirement already satisfied: numpy in /usr/local/lib/python3.12/dist-packages (from pennylane) (2.0.2)\n",
            "Requirement already satisfied: scipy-openblas32>=0.3.26 in /usr/local/lib/python3.12/dist-packages (from pennylane-lightning>=0.42->pennylane) (0.3.30.0.2)\n",
            "Requirement already satisfied: astunparse in /usr/local/lib/python3.12/dist-packages (from diastatic-malt->pennylane) (1.6.3)\n",
            "Requirement already satisfied: gast in /usr/local/lib/python3.12/dist-packages (from diastatic-malt->pennylane) (0.6.0)\n",
            "Requirement already satisfied: termcolor in /usr/local/lib/python3.12/dist-packages (from diastatic-malt->pennylane) (3.1.0)\n",
            "Requirement already satisfied: charset_normalizer<4,>=2 in /usr/local/lib/python3.12/dist-packages (from requests->pennylane) (3.4.3)\n",
            "Requirement already satisfied: idna<4,>=2.5 in /usr/local/lib/python3.12/dist-packages (from requests->pennylane) (3.10)\n",
            "Requirement already satisfied: urllib3<3,>=1.21.1 in /usr/local/lib/python3.12/dist-packages (from requests->pennylane) (2.5.0)\n",
            "Requirement already satisfied: certifi>=2017.4.17 in /usr/local/lib/python3.12/dist-packages (from requests->pennylane) (2025.8.3)\n",
            "Requirement already satisfied: wheel<1.0,>=0.23.0 in /usr/local/lib/python3.12/dist-packages (from astunparse->diastatic-malt->pennylane) (0.45.1)\n",
            "Requirement already satisfied: six<2.0,>=1.6.1 in /usr/local/lib/python3.12/dist-packages (from astunparse->diastatic-malt->pennylane) (1.17.0)\n"
          ]
        }
      ]
    },
    {
      "cell_type": "code",
      "source": [
        "import tensorflow as tf\n",
        "import pennylane as qml\n",
        "from pennylane import numpy as np\n",
        "from pennylane.templates import RandomLayers\n",
        "import matplotlib.pyplot as plt\n",
        "from tensorflow import keras\n",
        "from pennylane.optimize import AdamOptimizer, GradientDescentOptimizer\n",
        "%matplotlib inline"
      ],
      "metadata": {
        "id": "zvNqhD6l7YTd"
      },
      "id": "zvNqhD6l7YTd",
      "execution_count": 111,
      "outputs": []
    },
    {
      "cell_type": "code",
      "execution_count": 112,
      "id": "57000c55",
      "metadata": {
        "id": "57000c55"
      },
      "outputs": [],
      "source": [
        "n_epochs = 30   # Number of optimization epochs\n",
        "n_layers = 1    # Number of random layers\n",
        "n_train = 50    # Size of the train dataset\n",
        "n_test = 30     # Size of the test dataset\n",
        "\n",
        "SAVE_PATH = \"quanvolution/\" # Data saving folder\n",
        "PREPROCESS = False           # If False, skip quantum processing and load data from SAVE_PATH\n",
        "np.random.seed(0)           # Seed for NumPy random number generator\n",
        "tf.random.set_seed(0)"
      ]
    },
    {
      "cell_type": "code",
      "execution_count": 113,
      "id": "a38f1831",
      "metadata": {
        "colab": {
          "base_uri": "https://localhost:8080/"
        },
        "id": "a38f1831",
        "outputId": "0897a9a3-c5ba-482e-f1b2-9ebf4e9c818a"
      },
      "outputs": [
        {
          "output_type": "stream",
          "name": "stdout",
          "text": [
            "(50, 10)\n",
            "[0. 0. 0. ... 0. 0. 0.]\n"
          ]
        }
      ],
      "source": [
        "mnist_dataset = keras.datasets.mnist\n",
        "(train_images, train_labels), (test_images, test_labels) = mnist_dataset.load_data()\n",
        "\n",
        "# Reduce dataset size\n",
        "train_images = train_images[:n_train]\n",
        "train_labels = train_labels[:n_train]\n",
        "test_images = test_images[:n_test]\n",
        "test_labels = test_labels[:n_test]\n",
        "\n",
        "#print(train_labels)\n",
        "#print(len(train_labels))\n",
        "\n",
        "one_hot_vector = np.zeros((train_labels.size, train_labels.max() + 1))\n",
        "one_hot_vector[np.arange(train_labels.size), train_labels] = 1\n",
        "\n",
        "print(one_hot_vector.shape)\n",
        "print(one_hot_vector[0])\n",
        "\n",
        "# Normalize pixel values within 0 and 1\n",
        "train_images = train_images / 255\n",
        "test_images = test_images / 255\n",
        "\n",
        "# Add extra dimension for convolution channels\n",
        "train_images = np.array(train_images[..., tf.newaxis], requires_grad=False)\n",
        "test_images = np.array(test_images[..., tf.newaxis], requires_grad=False)"
      ]
    },
    {
      "cell_type": "markdown",
      "source": [
        "# Density Matrices"
      ],
      "metadata": {
        "id": "9uh6lAmaR9xO"
      },
      "id": "9uh6lAmaR9xO"
    },
    {
      "cell_type": "code",
      "source": [
        "def density_matrix(state):\n",
        "    \"\"\"Calculates the density matrix representation of a state.\n",
        "\n",
        "    Args:\n",
        "        state (array[complex]): array representing a quantum state vector\n",
        "\n",
        "    Returns:\n",
        "        dm: (array[complex]): array representing the density matrix\n",
        "    \"\"\"\n",
        "    # Ensure state is a numpy array and calculate the outer product\n",
        "    state = np.asarray(state)\n",
        "    return np.outer(state, np.conj(state))\n",
        "\n",
        "dm_labels = density_matrix(train_labels)\n",
        "np.set_printoptions(threshold=3) #np.inf for whole array\n",
        "print(dm_labels.shape)\n",
        "print(dm_labels)"
      ],
      "metadata": {
        "id": "Dcz8kzN-R99-",
        "colab": {
          "base_uri": "https://localhost:8080/"
        },
        "outputId": "1bd5ea2a-7db9-4ec4-85db-b47b4b83cbd6"
      },
      "id": "Dcz8kzN-R99-",
      "execution_count": 114,
      "outputs": [
        {
          "output_type": "stream",
          "name": "stdout",
          "text": [
            "(50, 50)\n",
            "[[25  0 20 ... 25 45 15]\n",
            " [ 0  0  0 ...  0  0  0]\n",
            " [20  0 16 ... 20 36 12]\n",
            " ...\n",
            " [25  0 20 ... 25 45 15]\n",
            " [45  0 36 ... 45 81 27]\n",
            " [15  0 12 ... 15 27  9]]\n"
          ]
        }
      ]
    },
    {
      "cell_type": "markdown",
      "source": [
        "# Initializing Qubits"
      ],
      "metadata": {
        "id": "EaBvzwT07dzT"
      },
      "id": "EaBvzwT07dzT"
    },
    {
      "cell_type": "code",
      "execution_count": 130,
      "id": "8738cee0",
      "metadata": {
        "id": "8738cee0"
      },
      "outputs": [],
      "source": [
        "# Simulating 4 qubits.\n",
        "dev = qml.device(\"default.qubit\", wires=4)\n",
        "# Random circuit parameters\n",
        "rand_params = np.random.uniform(high=2 * np.pi, size=(n_layers, 4))\n",
        "# Qnode represents the quantum circuit consisting of:\n",
        "# 1. an embedding later of local Ry rotations (with angles scaled by a factor of pi)\n",
        "# 2. a random circuit n_layers\n",
        "# 3. a final measurement in the computational basis, estimating 4 expectation values.\n",
        "\n",
        "#Parameter to determine which re-uploading circuit you want to use, attempt 1 works\n",
        "which = 1\n",
        "\n",
        "if which == 1:\n",
        "#attempt 1\n",
        "  @qml.qnode(dev)\n",
        "  def circuit(params, rand_params):\n",
        "      # Random quantum circuit\n",
        "      RandomLayers(rand_params, wires=list(range(4)))\n",
        "\n",
        "      # Encoding of 4 classical input values (re-uploading)\n",
        "      for _ in range(10):\n",
        "        for j in range(4):\n",
        "            qml.Rot(*params[j], wires=j) # Use parameters for Rot gates\n",
        "            qml.PauliZ(wires=j)\n",
        "            for k in range(3):\n",
        "                qml.CNOT(wires=[k, k+1])\n",
        "            qml.CNOT(wires=[3,0])\n",
        "        # Measurement producing 4 classical output values\n",
        "        return [qml.expval(qml.Identity(wires=j)) for j in range(4)]\n",
        "\n",
        "elif which == 2:\n",
        "#attempt 2\n",
        "  @qml.qnode(dev)\n",
        "  def circuit(params, rand_params, y_2x2):\n",
        "      # Random quantum circuit\n",
        "      RandomLayers(rand_params, wires=list(range(4)))\n",
        "\n",
        "      # Encoding of 4 classical input values (re-uploading)\n",
        "      for j in range(4):\n",
        "          qml.Rot(*params[j], wires=j) # Use parameters for Rot gates\n",
        "          qml.PauliZ(wires=j)\n",
        "          for k in range(3):\n",
        "              qml.CNOT(wires=[k, k+1])\n",
        "          qml.CNOT(wires=[3,0])\n",
        "\n",
        "      # Measurement producing 4 classical output values\n",
        "      return [qml.expval(qml.Hermitian(y_2x2, wires=[j])) for j in range(4)]"
      ]
    },
    {
      "cell_type": "code",
      "execution_count": 116,
      "id": "8869685d",
      "metadata": {
        "id": "8869685d"
      },
      "outputs": [],
      "source": [
        "# Definition of the convolution scheme:\n",
        "# 1. the image is divided into squares of 2x2 pixels\n",
        "# 2. each square is processed by the quantum circuit\n",
        "# 3. the e4 expectation values are mapped into 4 different channels of a single output pixel\n",
        "\n",
        "# This process halves the resolution of the input image. In the standard language of CNN, this qould correspond to\n",
        "# a convolution with a 2x2 kernel and a stride equal to 2\n",
        "\n",
        "if which == 1:\n",
        "  def quanv(image):\n",
        "      \"\"\"Convolves the input image with many applications of the same quantum circuit.\"\"\"\n",
        "      out = np.zeros((14, 14, 4))\n",
        "\n",
        "      # Loop over the coordinates of the top-left pixel of 2X2 squares\n",
        "      for j in range(0, 28, 2):\n",
        "          for k in range(0, 28, 2):\n",
        "              # Process a squared 2x2 region of the image with a quantum circuit\n",
        "              q_results = circuit(\n",
        "                  [\n",
        "                      [image[j, k, 0], 0, 0], # Pass parameters for Rot gates\n",
        "                      [image[j, k + 1, 0], 0, 0],\n",
        "                      [image[j + 1, k, 0], 0, 0],\n",
        "                      [image[j + 1, k + 1, 0], 0, 0]\n",
        "                  ]\n",
        "                  ,\n",
        "                  rand_params # Pass parameters for RandomLayers\n",
        "              )\n",
        "              # Assign expectation values to different channels of the output pixel (j/2, k/2)\n",
        "              for c in range(4):\n",
        "                  out[j // 2, k // 2, c] = q_results[c]\n",
        "      return out\n",
        "\n",
        "if which == 2:\n",
        "  def quanv(image):\n",
        "    \"\"\"Convolves the input image with many applications of the same quantum circuit.\"\"\"\n",
        "    out = np.zeros((14, 14, 4))\n",
        "\n",
        "    # Loop over the coordinates of the top-left pixel of 2X2 squares\n",
        "    for j in range(0, 28, 2):\n",
        "        for k in range(0, 28, 2):\n",
        "            # Extract the corresponding 2x2 density matrix from dm_labels\n",
        "            y_2x2 = dm_labels[j:j+2, k:k+2]\n",
        "\n",
        "            # Process a squared 2x2 region of the image with a quantum circuit\n",
        "            q_results = circuit(\n",
        "                [\n",
        "                    [image[j, k, 0], 0, 0], # Pass parameters for Rot gates\n",
        "                    [image[j, k + 1, 0], 0, 0],\n",
        "                    [image[j + 1, k, 0], 0, 0],\n",
        "                    [image[j + 1, k + 1, 0], 0, 0]\n",
        "                ]\n",
        "                ,\n",
        "                rand_params # Pass parameters for RandomLayers\n",
        "                ,\n",
        "                y_2x2 # Pass the 2x2 density matrix\n",
        "            )\n",
        "            # Assign expectation values to different channels of the output pixel (j/2, k/2)\n",
        "            for c in range(4):\n",
        "                out[j // 2, k // 2, c] = q_results[c]\n",
        "    return out"
      ]
    },
    {
      "cell_type": "markdown",
      "source": [
        "# Preprocessing (I didn't touch anything beneath this code)"
      ],
      "metadata": {
        "id": "QUZvW1mR7qXm"
      },
      "id": "QUZvW1mR7qXm"
    },
    {
      "cell_type": "code",
      "execution_count": 124,
      "id": "ff5272a2",
      "metadata": {
        "colab": {
          "base_uri": "https://localhost:8080/"
        },
        "id": "ff5272a2",
        "outputId": "8e5ea2b2-74ce-4bdf-9c02-cc0c2fcdf32f"
      },
      "outputs": [
        {
          "output_type": "stream",
          "name": "stdout",
          "text": [
            "Quantum pre-processing of train images:\n",
            "\n",
            "Quantum pre-processing of test images:\n"
          ]
        }
      ],
      "source": [
        "# Quantum convolution layer is not trained. \"pre-processing\" layer to all the images of our dataset.\n",
        "# The classical model will be directly trained on the pre-processed dataset, avoiding unnecessary repetitions of\n",
        "# quantum computations\n",
        "if PREPROCESS == False:\n",
        "    q_train_images = []\n",
        "    print(\"Quantum pre-processing of train images:\")\n",
        "    for idx, img in enumerate(train_images):\n",
        "        print(\"{}/{}        \".format(idx + 1, n_train), end=\"\\r\")\n",
        "       #quanv(img).squeeze()\n",
        "        q_train_images.append(quanv(img))\n",
        "    q_train_images = np.asarray(q_train_images)\n",
        "\n",
        "    q_test_images = []\n",
        "    print(\"\\nQuantum pre-processing of test images:\")\n",
        "    for idx, img in enumerate(test_images):\n",
        "        print(\"{}/{}        \".format(idx + 1, n_test), end=\"\\r\")\n",
        "        #quanv(img).squeeze()\n",
        "        q_test_images.append(quanv(img))\n",
        "\n",
        "    q_test_images = np.asarray(q_test_images)\n",
        "\n",
        "if PREPROCESS == True:\n",
        "    q_train_images = np.load(SAVE_PATH + \"q_train_images.npy\")\n",
        "    q_test_images = np.load(SAVE_PATH + \"q_test_images.npy\")"
      ]
    },
    {
      "cell_type": "markdown",
      "source": [
        "# Visualizing Data"
      ],
      "metadata": {
        "id": "lCApdNpm716I"
      },
      "id": "lCApdNpm716I"
    },
    {
      "cell_type": "code",
      "execution_count": 125,
      "id": "0bb1fa6d",
      "metadata": {
        "colab": {
          "base_uri": "https://localhost:8080/",
          "height": 1000
        },
        "id": "0bb1fa6d",
        "outputId": "475f1f3b-36d6-4118-f4aa-eb593129aabf"
      },
      "outputs": [
        {
          "output_type": "display_data",
          "data": {
            "text/plain": [
              "<Figure size 1000x1000 with 20 Axes>"
            ],
            "image/png": "[encoded data removed]"
          },
          "metadata": {}
        }
      ],
      "source": [
        "n_samples = 4\n",
        "n_channels = 4\n",
        "fig, axes = plt.subplots(1 + n_channels, n_samples, figsize=(10, 10))\n",
        "for k in range(n_samples):\n",
        "    axes[0, 0].set_ylabel(\"Input\")\n",
        "    if k != 0:\n",
        "        axes[0, k].yaxis.set_visible(False)\n",
        "    axes[0, k].imshow(train_images[k, :, :, 0], cmap=\"gray\")\n",
        "\n",
        "    # Plot all output channels\n",
        "    for c in range(n_channels):\n",
        "        axes[c + 1, 0].set_ylabel(\"Output [ch. {}]\".format(c))\n",
        "        if k != 0:\n",
        "            axes[c, k].yaxis.set_visible(False)\n",
        "        axes[c + 1, k].imshow(q_train_images[k, :, :, c], cmap=\"gray\")\n",
        "\n",
        "plt.tight_layout()\n",
        "plt.show()"
      ]
    },
    {
      "cell_type": "code",
      "execution_count": 126,
      "id": "566cf8c3",
      "metadata": {
        "id": "566cf8c3"
      },
      "outputs": [],
      "source": [
        "# After the application of the quantum convolution layer we feed the resulting features into a classical nn\n",
        "# and trained to classify the 10 different digits of the MNIST dataset\n",
        "\n",
        "# Simple model: fully connected 10 output nodes with a softmax activations function\n",
        "\n",
        "# compiled with a stochastic-gradient-descent optimizer, and a cross-entropy loss function\n",
        "\n",
        "def MyModel():\n",
        "    \"\"\"Initializes and returns a custom Keras model\n",
        "    which is ready to be trained.\"\"\"\n",
        "    model = keras.models.Sequential([\n",
        "        keras.layers.Flatten(),\n",
        "        keras.layers.Dense(10, activation=\"softmax\")\n",
        "    ])\n",
        "\n",
        "    model.compile(\n",
        "        optimizer='adam',\n",
        "        loss=\"sparse_categorical_crossentropy\",\n",
        "        metrics=[\"accuracy\"],\n",
        "    )\n",
        "    return model\n"
      ]
    },
    {
      "cell_type": "markdown",
      "source": [
        "# Getting Results"
      ],
      "metadata": {
        "id": "NS5yo9g478Oe"
      },
      "id": "NS5yo9g478Oe"
    },
    {
      "cell_type": "code",
      "execution_count": 127,
      "id": "65b7e3ca",
      "metadata": {
        "colab": {
          "base_uri": "https://localhost:8080/"
        },
        "id": "65b7e3ca",
        "outputId": "1c6e7c25-ba95-4c41-c97a-b230cb4b4ad1"
      },
      "outputs": [
        {
          "output_type": "stream",
          "name": "stdout",
          "text": [
            "Epoch 1/30\n",
            "13/13 - 1s - 67ms/step - accuracy: 0.0600 - loss: 2.9217 - val_accuracy: 0.1667 - val_loss: 2.3057\n",
            "Epoch 2/30\n",
            "13/13 - 0s - 9ms/step - accuracy: 0.1000 - loss: 2.5886 - val_accuracy: 0.0000e+00 - val_loss: 2.5039\n",
            "Epoch 3/30\n",
            "13/13 - 0s - 9ms/step - accuracy: 0.1000 - loss: 2.4320 - val_accuracy: 0.1667 - val_loss: 2.2582\n",
            "Epoch 4/30\n",
            "13/13 - 0s - 10ms/step - accuracy: 0.0600 - loss: 2.4319 - val_accuracy: 0.1333 - val_loss: 2.3585\n",
            "Epoch 5/30\n",
            "13/13 - 0s - 9ms/step - accuracy: 0.0800 - loss: 2.4045 - val_accuracy: 0.1667 - val_loss: 2.3225\n",
            "Epoch 6/30\n",
            "13/13 - 0s - 9ms/step - accuracy: 0.0600 - loss: 2.4236 - val_accuracy: 0.1333 - val_loss: 2.3233\n",
            "Epoch 7/30\n",
            "13/13 - 0s - 9ms/step - accuracy: 0.0800 - loss: 2.4084 - val_accuracy: 0.1667 - val_loss: 2.3306\n",
            "Epoch 8/30\n",
            "13/13 - 0s - 9ms/step - accuracy: 0.0800 - loss: 2.4175 - val_accuracy: 0.1333 - val_loss: 2.3253\n",
            "Epoch 9/30\n",
            "13/13 - 0s - 9ms/step - accuracy: 0.0600 - loss: 2.4137 - val_accuracy: 0.1667 - val_loss: 2.3275\n",
            "Epoch 10/30\n",
            "13/13 - 0s - 9ms/step - accuracy: 0.0800 - loss: 2.4155 - val_accuracy: 0.1667 - val_loss: 2.3273\n",
            "Epoch 11/30\n",
            "13/13 - 0s - 9ms/step - accuracy: 0.0800 - loss: 2.4152 - val_accuracy: 0.1667 - val_loss: 2.3270\n",
            "Epoch 12/30\n",
            "13/13 - 0s - 10ms/step - accuracy: 0.0800 - loss: 2.4156 - val_accuracy: 0.1667 - val_loss: 2.3274\n",
            "Epoch 13/30\n",
            "13/13 - 0s - 10ms/step - accuracy: 0.0800 - loss: 2.4156 - val_accuracy: 0.1667 - val_loss: 2.3272\n",
            "Epoch 14/30\n",
            "13/13 - 0s - 9ms/step - accuracy: 0.0800 - loss: 2.4159 - val_accuracy: 0.1667 - val_loss: 2.3273\n",
            "Epoch 15/30\n",
            "13/13 - 0s - 9ms/step - accuracy: 0.0800 - loss: 2.4159 - val_accuracy: 0.1667 - val_loss: 2.3273\n",
            "Epoch 16/30\n",
            "13/13 - 0s - 9ms/step - accuracy: 0.0800 - loss: 2.4161 - val_accuracy: 0.1667 - val_loss: 2.3273\n",
            "Epoch 17/30\n",
            "13/13 - 0s - 9ms/step - accuracy: 0.0800 - loss: 2.4161 - val_accuracy: 0.1667 - val_loss: 2.3274\n",
            "Epoch 18/30\n",
            "13/13 - 0s - 9ms/step - accuracy: 0.0800 - loss: 2.4162 - val_accuracy: 0.1667 - val_loss: 2.3274\n",
            "Epoch 19/30\n",
            "13/13 - 0s - 9ms/step - accuracy: 0.0800 - loss: 2.4163 - val_accuracy: 0.1667 - val_loss: 2.3274\n",
            "Epoch 20/30\n",
            "13/13 - 0s - 10ms/step - accuracy: 0.0800 - loss: 2.4163 - val_accuracy: 0.1667 - val_loss: 2.3274\n",
            "Epoch 21/30\n",
            "13/13 - 0s - 9ms/step - accuracy: 0.0800 - loss: 2.4164 - val_accuracy: 0.1667 - val_loss: 2.3274\n",
            "Epoch 22/30\n",
            "13/13 - 0s - 9ms/step - accuracy: 0.0800 - loss: 2.4164 - val_accuracy: 0.1667 - val_loss: 2.3274\n",
            "Epoch 23/30\n",
            "13/13 - 0s - 9ms/step - accuracy: 0.0800 - loss: 2.4165 - val_accuracy: 0.1667 - val_loss: 2.3275\n",
            "Epoch 24/30\n",
            "13/13 - 0s - 9ms/step - accuracy: 0.0800 - loss: 2.4165 - val_accuracy: 0.1667 - val_loss: 2.3275\n",
            "Epoch 25/30\n",
            "13/13 - 0s - 9ms/step - accuracy: 0.0800 - loss: 2.4166 - val_accuracy: 0.1667 - val_loss: 2.3275\n",
            "Epoch 26/30\n",
            "13/13 - 0s - 9ms/step - accuracy: 0.0800 - loss: 2.4166 - val_accuracy: 0.1667 - val_loss: 2.3275\n",
            "Epoch 27/30\n",
            "13/13 - 0s - 9ms/step - accuracy: 0.0800 - loss: 2.4166 - val_accuracy: 0.1667 - val_loss: 2.3275\n",
            "Epoch 28/30\n",
            "13/13 - 0s - 9ms/step - accuracy: 0.0800 - loss: 2.4167 - val_accuracy: 0.1667 - val_loss: 2.3275\n",
            "Epoch 29/30\n",
            "13/13 - 0s - 10ms/step - accuracy: 0.0800 - loss: 2.4167 - val_accuracy: 0.1667 - val_loss: 2.3275\n",
            "Epoch 30/30\n",
            "13/13 - 0s - 9ms/step - accuracy: 0.0800 - loss: 2.4167 - val_accuracy: 0.1667 - val_loss: 2.3275\n"
          ]
        }
      ],
      "source": [
        "# train and validate the model (has already been pre-processed by a quantum convolution)\n",
        "q_model = MyModel()\n",
        "\n",
        "q_history = q_model.fit(\n",
        "    q_train_images,\n",
        "    train_labels,\n",
        "    validation_data=(q_test_images, test_labels),\n",
        "    batch_size=4,\n",
        "    epochs=n_epochs,\n",
        "    verbose=2,\n",
        ")"
      ]
    },
    {
      "cell_type": "code",
      "execution_count": 128,
      "id": "2001f18a",
      "metadata": {
        "colab": {
          "base_uri": "https://localhost:8080/"
        },
        "id": "2001f18a",
        "outputId": "0f628f04-e58d-4b0e-a7f5-ea1732cc4120"
      },
      "outputs": [
        {
          "output_type": "stream",
          "name": "stdout",
          "text": [
            "Epoch 1/30\n",
            "13/13 - 1s - 67ms/step - accuracy: 0.0600 - loss: 2.4157 - val_accuracy: 0.1333 - val_loss: 2.3378\n",
            "Epoch 2/30\n",
            "13/13 - 0s - 9ms/step - accuracy: 0.3200 - loss: 1.9898 - val_accuracy: 0.3333 - val_loss: 2.1752\n",
            "Epoch 3/30\n",
            "13/13 - 0s - 9ms/step - accuracy: 0.5800 - loss: 1.6996 - val_accuracy: 0.3667 - val_loss: 2.0301\n",
            "Epoch 4/30\n",
            "13/13 - 0s - 10ms/step - accuracy: 0.7200 - loss: 1.4605 - val_accuracy: 0.4000 - val_loss: 1.9000\n",
            "Epoch 5/30\n",
            "13/13 - 0s - 9ms/step - accuracy: 0.8400 - loss: 1.2602 - val_accuracy: 0.5000 - val_loss: 1.7881\n",
            "Epoch 6/30\n",
            "13/13 - 0s - 10ms/step - accuracy: 0.8800 - loss: 1.0929 - val_accuracy: 0.5000 - val_loss: 1.6944\n",
            "Epoch 7/30\n",
            "13/13 - 0s - 10ms/step - accuracy: 0.8800 - loss: 0.9535 - val_accuracy: 0.5000 - val_loss: 1.6162\n",
            "Epoch 8/30\n",
            "13/13 - 0s - 11ms/step - accuracy: 0.9200 - loss: 0.8370 - val_accuracy: 0.5000 - val_loss: 1.5506\n",
            "Epoch 9/30\n",
            "13/13 - 0s - 10ms/step - accuracy: 0.9600 - loss: 0.7393 - val_accuracy: 0.5333 - val_loss: 1.4950\n",
            "Epoch 10/30\n",
            "13/13 - 0s - 10ms/step - accuracy: 0.9600 - loss: 0.6569 - val_accuracy: 0.5333 - val_loss: 1.4474\n",
            "Epoch 11/30\n",
            "13/13 - 0s - 10ms/step - accuracy: 0.9600 - loss: 0.5869 - val_accuracy: 0.5333 - val_loss: 1.4065\n",
            "Epoch 12/30\n",
            "13/13 - 0s - 9ms/step - accuracy: 1.0000 - loss: 0.5272 - val_accuracy: 0.5000 - val_loss: 1.3710\n",
            "Epoch 13/30\n",
            "13/13 - 0s - 9ms/step - accuracy: 1.0000 - loss: 0.4757 - val_accuracy: 0.5000 - val_loss: 1.3402\n",
            "Epoch 14/30\n",
            "13/13 - 0s - 9ms/step - accuracy: 1.0000 - loss: 0.4312 - val_accuracy: 0.6000 - val_loss: 1.3131\n",
            "Epoch 15/30\n",
            "13/13 - 0s - 10ms/step - accuracy: 1.0000 - loss: 0.3925 - val_accuracy: 0.6000 - val_loss: 1.2894\n",
            "Epoch 16/30\n",
            "13/13 - 0s - 10ms/step - accuracy: 1.0000 - loss: 0.3587 - val_accuracy: 0.6000 - val_loss: 1.2684\n",
            "Epoch 17/30\n",
            "13/13 - 0s - 10ms/step - accuracy: 1.0000 - loss: 0.3289 - val_accuracy: 0.6000 - val_loss: 1.2497\n",
            "Epoch 18/30\n",
            "13/13 - 0s - 9ms/step - accuracy: 1.0000 - loss: 0.3026 - val_accuracy: 0.6333 - val_loss: 1.2331\n",
            "Epoch 19/30\n",
            "13/13 - 0s - 9ms/step - accuracy: 1.0000 - loss: 0.2793 - val_accuracy: 0.6333 - val_loss: 1.2182\n",
            "Epoch 20/30\n",
            "13/13 - 0s - 9ms/step - accuracy: 1.0000 - loss: 0.2586 - val_accuracy: 0.6333 - val_loss: 1.2049\n",
            "Epoch 21/30\n",
            "13/13 - 0s - 9ms/step - accuracy: 1.0000 - loss: 0.2401 - val_accuracy: 0.6333 - val_loss: 1.1928\n",
            "Epoch 22/30\n",
            "13/13 - 0s - 9ms/step - accuracy: 1.0000 - loss: 0.2234 - val_accuracy: 0.6333 - val_loss: 1.1820\n",
            "Epoch 23/30\n",
            "13/13 - 0s - 9ms/step - accuracy: 1.0000 - loss: 0.2085 - val_accuracy: 0.6333 - val_loss: 1.1721\n",
            "Epoch 24/30\n",
            "13/13 - 0s - 9ms/step - accuracy: 1.0000 - loss: 0.1950 - val_accuracy: 0.6667 - val_loss: 1.1631\n",
            "Epoch 25/30\n",
            "13/13 - 0s - 10ms/step - accuracy: 1.0000 - loss: 0.1828 - val_accuracy: 0.6667 - val_loss: 1.1549\n",
            "Epoch 26/30\n",
            "13/13 - 0s - 9ms/step - accuracy: 1.0000 - loss: 0.1717 - val_accuracy: 0.6667 - val_loss: 1.1474\n",
            "Epoch 27/30\n",
            "13/13 - 0s - 9ms/step - accuracy: 1.0000 - loss: 0.1616 - val_accuracy: 0.6667 - val_loss: 1.1406\n",
            "Epoch 28/30\n",
            "13/13 - 0s - 10ms/step - accuracy: 1.0000 - loss: 0.1524 - val_accuracy: 0.6667 - val_loss: 1.1343\n",
            "Epoch 29/30\n",
            "13/13 - 0s - 10ms/step - accuracy: 1.0000 - loss: 0.1440 - val_accuracy: 0.6667 - val_loss: 1.1284\n",
            "Epoch 30/30\n",
            "13/13 - 0s - 9ms/step - accuracy: 1.0000 - loss: 0.1362 - val_accuracy: 0.6667 - val_loss: 1.1231\n"
          ]
        }
      ],
      "source": [
        "# a classical instance to later compare with the quantum convolution layer\n",
        "c_model = MyModel()\n",
        "\n",
        "c_history = c_model.fit(\n",
        "    train_images,\n",
        "    train_labels,\n",
        "    validation_data=(test_images, test_labels),\n",
        "    batch_size=4,\n",
        "    epochs=n_epochs,\n",
        "    verbose=2,\n",
        ")"
      ]
    },
    {
      "cell_type": "markdown",
      "source": [
        "## Plotting"
      ],
      "metadata": {
        "id": "KUkMxplc7_ny"
      },
      "id": "KUkMxplc7_ny"
    },
    {
      "cell_type": "code",
      "execution_count": 129,
      "id": "547ec605",
      "metadata": {
        "colab": {
          "base_uri": "https://localhost:8080/",
          "height": 906
        },
        "id": "547ec605",
        "outputId": "7cee4ed6-7de6-4431-fc11-375f6ad64d3c"
      },
      "outputs": [
        {
          "output_type": "display_data",
          "data": {
            "text/plain": [
              "<Figure size 600x900 with 2 Axes>"
            ],
            "image/png": "[encoded data removed]"
          },
          "metadata": {}
        }
      ],
      "source": [
        "import matplotlib.pyplot as plt\n",
        "\n",
        "fig, (ax1, ax2) = plt.subplots(2, 1, figsize=(6, 9))\n",
        "\n",
        "ax1.plot(q_history.history[\"val_accuracy\"], \"-ob\", label=\"With quantum layer\")\n",
        "ax1.plot(c_history.history[\"val_accuracy\"], \"-og\", label=\"Without quantum layer\")\n",
        "ax1.set_ylabel(\"Accuracy\")\n",
        "ax1.set_ylim([0, 1])\n",
        "ax1.set_xlabel(\"Epoch\")\n",
        "ax1.legend()\n",
        "\n",
        "ax2.plot(q_history.history[\"val_loss\"], \"-ob\", label=\"With quantum layer\")\n",
        "ax2.plot(c_history.history[\"val_loss\"], \"-og\", label=\"Without quantum layer\")\n",
        "ax2.set_ylabel(\"Loss\")\n",
        "ax2.set_ylim(top=2.5)\n",
        "ax2.set_xlabel(\"Epoch\")\n",
        "ax2.legend()\n",
        "plt.tight_layout()\n",
        "plt.show()"
      ]
    }
  ],
  "metadata": {
    "kernelspec": {
      "display_name": "Python 3 (ipykernel)",
      "language": "python",
      "name": "python3"
    },
    "language_info": {
      "codemirror_mode": {
        "name": "ipython",
        "version": 3
      },
      "file_extension": ".py",
      "mimetype": "text/x-python",
      "name": "python",
      "nbconvert_exporter": "python",
      "pygments_lexer": "ipython3",
      "version": "3.9.5"
    },
    "colab": {
      "provenance": []
    }
  },
  "nbformat": 4,
  "nbformat_minor": 5
}